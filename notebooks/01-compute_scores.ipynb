{
 "cells": [
  {
   "cell_type": "code",
   "execution_count": 1,
   "metadata": {},
   "outputs": [],
   "source": [
    "# https://www.sc-best-practices.org/conditions/gsea_pathway.html#id380\n",
    "# Kang HM, Subramaniam M, Targ S, et al. Multiplexed droplet single-cell RNA-sequencing using natural genetic variation\n",
    "#   Nat Biotechnol. 2020 Nov;38(11):1356]. Nat Biotechnol. 2018;36(1):89-94. doi:10.1038/nbt.4042"
   ]
  },
  {
   "cell_type": "code",
   "execution_count": 2,
   "metadata": {
    "tags": [
     "parameters"
    ]
   },
   "outputs": [],
   "source": [
    "model_kind = \"ivae_random-0.1\"\n",
    "frac = 0.1"
   ]
  },
  {
   "cell_type": "code",
   "execution_count": 3,
   "metadata": {},
   "outputs": [],
   "source": [
    "model_kind = str(model_kind)\n",
    "frac = float(frac)"
   ]
  },
  {
   "cell_type": "code",
   "execution_count": 4,
   "metadata": {},
   "outputs": [
    {
     "name": "stderr",
     "output_type": "stream",
     "text": [
      "2024-09-11 07:41:34.060242: I tensorflow/core/platform/cpu_feature_guard.cc:193] This TensorFlow binary is optimized with oneAPI Deep Neural Network Library (oneDNN) to use the following CPU instructions in performance-critical operations:  SSE4.1 SSE4.2 AVX AVX2 FMA\n",
      "To enable them in other operations, rebuild TensorFlow with the appropriate compiler flags.\n",
      "/home/cloucera/.local/lib/python3.10/site-packages/tqdm/auto.py:21: TqdmWarning: IProgress not found. Please update jupyter and ipywidgets. See https://ipywidgets.readthedocs.io/en/stable/user_install.html\n",
      "  from .autonotebook import tqdm as notebook_tqdm\n"
     ]
    },
    {
     "name": "stdout",
     "output_type": "stream",
     "text": [
      "scanpy==1.9.8 anndata==0.9.2 umap==0.5.6 numpy==1.24.4 scipy==1.11.3 pandas==2.1.1 scikit-learn==1.3.1 statsmodels==0.14.0 igraph==0.10.3 pynndescent==0.5.13\n"
     ]
    }
   ],
   "source": [
    "%load_ext autoreload\n",
    "%autoreload 2\n",
    "\n",
    "from pathlib import Path\n",
    "\n",
    "import dotenv\n",
    "import matplotlib.pyplot as plt\n",
    "import numpy as np\n",
    "import pandas as pd\n",
    "import scanpy as sc\n",
    "import seaborn as sns\n",
    "import tensorflow as tf\n",
    "from scipy.stats import weightedtau\n",
    "from sklearn.model_selection import train_test_split\n",
    "\n",
    "from isrobust.bio import (\n",
    "    build_hipathia_renamers,\n",
    "    get_adj_matrices,\n",
    "    get_random_adj,\n",
    "    get_reactome_adj,\n",
    "    sync_gexp_adj,\n",
    ")\n",
    "from isrobust.datasets import load_kang\n",
    "from isrobust.utils import set_all_seeds\n",
    "\n",
    "project_path = Path(dotenv.find_dotenv()).parent\n",
    "\n",
    "data_path = project_path.joinpath(\"data\")\n",
    "data_path.mkdir(exist_ok=True, parents=True)\n",
    "\n",
    "set_all_seeds(seed=42)\n",
    "\n",
    "tf.config.experimental.enable_op_determinism()\n",
    "\n",
    "sc.set_figure_params(dpi=300, color_map=\"inferno\")\n",
    "sc.settings.verbosity = 1\n",
    "sc.logging.print_header()"
   ]
  },
  {
   "cell_type": "code",
   "execution_count": 5,
   "metadata": {},
   "outputs": [
    {
     "data": {
      "text/plain": [
       "OrderedDict([('IVAE_ENV_FOLDER', './.venvs/ivae'),\n",
       "             ('BINN_ENV_FOLDER', './.venvs/binn'),\n",
       "             ('N_GPU', '3'),\n",
       "             ('N_CPU', '30'),\n",
       "             ('FRAC_START', '0.05'),\n",
       "             ('FRAC_STOP', '0.9'),\n",
       "             ('FRAC_STEP', '0.05'),\n",
       "             ('SEED_START', '0'),\n",
       "             ('SEED_STOP', '99'),\n",
       "             ('SEED_STEP', '1'),\n",
       "             ('DEBUG', '0'),\n",
       "             ('RESULTS_FOLDER',\n",
       "              '/home/cloucera/mnt/output/robustness_informed')])"
      ]
     },
     "execution_count": 5,
     "metadata": {},
     "output_type": "execute_result"
    }
   ],
   "source": [
    "config = dotenv.dotenv_values()\n",
    "config"
   ]
  },
  {
   "cell_type": "code",
   "execution_count": 7,
   "metadata": {},
   "outputs": [
    {
     "data": {
      "text/plain": [
       "PosixPath('/home/cloucera/mnt/output/robustness_informed')"
      ]
     },
     "execution_count": 7,
     "metadata": {},
     "output_type": "execute_result"
    }
   ],
   "source": [
    "debug = bool(int(config[\"DEBUG\"]))\n",
    "\n",
    "results_path = Path(config[\"RESULTS_FOLDER\"])\n",
    "results_path.mkdir(exist_ok=True, parents=True)\n",
    "figs_path = results_path.joinpath(\"figs\")\n",
    "figs_path.mkdir(exist_ok=True, parents=True)\n",
    "tables_path = results_path.joinpath(\"tables\")\n",
    "tables_path.mkdir(exist_ok=True, parents=True)"
   ]
  },
  {
   "cell_type": "code",
   "execution_count": null,
   "metadata": {},
   "outputs": [],
   "source": [
    "seeds = list(\n",
    "    range(\n",
    "        int(config[\"SEED_START\"]),\n",
    "        int(config[\"SEED_STOP\"]) + 1,\n",
    "        int(config[\"SEED_STEP\"]),\n",
    "    )\n",
    ")\n",
    "N_ITERS = len(seeds)"
   ]
  },
  {
   "cell_type": "code",
   "execution_count": null,
   "metadata": {},
   "outputs": [],
   "source": [
    "if debug:\n",
    "    N_EPOCHS = 2\n",
    "else:\n",
    "    N_EPOCHS = 300\n",
    "\n",
    "if model_kind == \"ivae_kegg\":\n",
    "    n_encoding_layers = 3\n",
    "elif model_kind == \"ivae_reactome\":\n",
    "    n_encoding_layers = 2\n",
    "elif \"ivae_random\" in model_kind:\n",
    "    n_encoding_layers = 2\n",
    "else:\n",
    "    raise NotImplementedError(f\"{model_kind} not implemented yet.\")\n",
    "\n",
    "print(f\"{debug=} {model_kind=}\")"
   ]
  },
  {
   "cell_type": "code",
   "execution_count": null,
   "metadata": {},
   "outputs": [],
   "source": [
    "if \"ivae_random\" in model_kind:\n",
    "    n_genes = 3000\n",
    "else:\n",
    "    n_genes = None\n",
    "adata = load_kang(data_folder=data_path, normalize=True, n_genes=n_genes)"
   ]
  },
  {
   "cell_type": "code",
   "execution_count": null,
   "metadata": {},
   "outputs": [],
   "source": [
    "x_trans = adata.to_df()"
   ]
  },
  {
   "cell_type": "code",
   "execution_count": null,
   "metadata": {},
   "outputs": [],
   "source": [
    "circuit_adj, circuit_to_pathway_adj = get_adj_matrices(\n",
    "    gene_list=x_trans.columns.to_list()\n",
    ")\n",
    "\n",
    "circuit_renamer, pathway_renamer, circuit_to_effector = build_hipathia_renamers()\n",
    "\n",
    "kegg_circuit_names = circuit_adj.rename(columns=circuit_renamer).columns\n",
    "\n",
    "kegg_pathway_names = circuit_to_pathway_adj.rename(columns=pathway_renamer).columns\n",
    "\n",
    "circuit_adj.head()"
   ]
  },
  {
   "cell_type": "code",
   "execution_count": null,
   "metadata": {},
   "outputs": [],
   "source": [
    "reactome = get_reactome_adj()\n",
    "reactome_pathway_names = reactome.columns"
   ]
  },
  {
   "cell_type": "code",
   "execution_count": null,
   "metadata": {},
   "outputs": [],
   "source": [
    "if model_kind == \"ivae_kegg\":\n",
    "    x_trans, circuit_adj = sync_gexp_adj(gexp=x_trans, adj=circuit_adj)\n",
    "elif model_kind == \"ivae_reactome\":\n",
    "    x_trans, reactome = sync_gexp_adj(x_trans, reactome)"
   ]
  },
  {
   "cell_type": "code",
   "execution_count": null,
   "metadata": {},
   "outputs": [],
   "source": [
    "state = np.random.get_state()\n",
    "\n",
    "# we ensure to presever the same sparsity structure for a given frac across all seeds\n",
    "random_layer, random_layer_names = get_random_adj(\n",
    "    frac, shape=reactome.shape, size=reactome.size, index=reactome.index, seed=0\n",
    ")\n",
    "\n",
    "np.random.set_state(state)"
   ]
  },
  {
   "cell_type": "code",
   "execution_count": null,
   "metadata": {},
   "outputs": [],
   "source": [
    "if model_kind == \"ivae_kegg\":\n",
    "    x_trans, circuit_adj = sync_gexp_adj(gexp=x_trans, adj=circuit_adj)\n",
    "elif model_kind == \"ivae_reactome\":\n",
    "    x_trans, reactome = sync_gexp_adj(x_trans, reactome)\n",
    "elif \"ivae_random\" in model_kind:\n",
    "    x_trans, random_layer = sync_gexp_adj(x_trans, random_layer)"
   ]
  },
  {
   "cell_type": "code",
   "execution_count": null,
   "metadata": {},
   "outputs": [],
   "source": [
    "def get_importances(data, abs=False):\n",
    "    if abs:\n",
    "        return np.abs(data).mean(axis=0)\n",
    "    else:\n",
    "        return data.mean(axis=0)\n",
    "\n",
    "\n",
    "def get_activations(act_model, layer_id, data):\n",
    "    data_encoded = act_model.predict(data)[layer_id]\n",
    "    return data_encoded"
   ]
  },
  {
   "cell_type": "code",
   "execution_count": null,
   "metadata": {},
   "outputs": [],
   "source": [
    "def train_val_test_split(features, val_size, test_size, stratify, seed):\n",
    "    train_size = 1 - (val_size + test_size)\n",
    "\n",
    "    x_train, x_test, y_train, y_test = train_test_split(\n",
    "        features,\n",
    "        stratify,\n",
    "        train_size=train_size,\n",
    "        stratify=stratify,\n",
    "        random_state=seed,\n",
    "    )\n",
    "\n",
    "    x_val, x_test = train_test_split(\n",
    "        x_test,\n",
    "        test_size=test_size / (test_size + val_size),\n",
    "        stratify=y_test,\n",
    "        random_state=seed,\n",
    "    )\n",
    "\n",
    "    x_train = x_train.astype(\"float32\")\n",
    "    x_val = x_val.astype(\"float32\")\n",
    "    x_test = x_test.astype(\"float32\")\n",
    "\n",
    "    return x_train, x_val, x_test"
   ]
  },
  {
   "cell_type": "code",
   "execution_count": null,
   "metadata": {},
   "outputs": [],
   "source": [
    "results_path_model = results_path.joinpath(model_kind)\n",
    "obs = adata.obs.copy()\n",
    "results_path_model.mkdir(exist_ok=True, parents=True)"
   ]
  },
  {
   "cell_type": "code",
   "execution_count": null,
   "metadata": {},
   "outputs": [],
   "source": [
    "if model_kind == \"ivae_kegg\":\n",
    "    # vae, encoder, decoder = build_kegg_vae(\n",
    "    #     circuits=circuit_adj, pathways=circuit_to_pathway_adj, seed=42\n",
    "    # )\n",
    "    layer_ids = [1, 2, 3]\n",
    "elif model_kind == \"ivae_reactome\":\n",
    "    # vae, encoder, decoder = build_reactome_vae(reactome, seed=42)\n",
    "    layer_ids = [1, 2]\n",
    "elif \"ivae_random\" in model_kind:\n",
    "    # vae, encoder, decoder = build_reactome_vae(random_layer, seed=42)\n",
    "    layer_ids = [1, 2]\n",
    "else:\n",
    "    raise NotImplementedError(\"Model not yet implemented.\")"
   ]
  },
  {
   "cell_type": "code",
   "execution_count": null,
   "metadata": {},
   "outputs": [],
   "source": [
    "non_layer_names = [\"split\", \"layer\", \"seed\", \"cell_type\", \"condition\", \"model\"]"
   ]
  },
  {
   "cell_type": "code",
   "execution_count": null,
   "metadata": {},
   "outputs": [],
   "source": [
    "scores_metrics = [\n",
    "    pd.read_pickle(results_path_model.joinpath(f\"metrics-seed-{seed:02d}.pkl\"))\n",
    "    for seed in seeds\n",
    "]\n",
    "scores_metrics = pd.concat(scores_metrics, axis=0, ignore_index=True)\n",
    "scores_metrics.to_pickle(results_path_model.joinpath(\"scores_metrics.pkl\"))\n",
    "\n",
    "scores_metrics.head()"
   ]
  },
  {
   "cell_type": "code",
   "execution_count": null,
   "metadata": {},
   "outputs": [],
   "source": [
    "custom_params = {\"axes.spines.right\": False, \"axes.spines.top\": False}\n",
    "sns.set_theme(context=\"paper\", font_scale=0.5, style=\"ticks\", rc=custom_params)\n",
    "\n",
    "g = sns.catplot(\n",
    "    data=scores_metrics,\n",
    "    kind=\"violin\",\n",
    "    col=\"metric\",\n",
    "    height=2,\n",
    "    aspect=0.9,\n",
    "    sharey=False,\n",
    "    x=\"model\",\n",
    "    y=\"score\",\n",
    "    hue=\"split\",\n",
    "    split=False,\n",
    "    cut=0,\n",
    "    fill=False,\n",
    "    density_norm=\"count\",\n",
    "    inner=\"quart\",\n",
    "    linewidth=0.5,\n",
    ")"
   ]
  },
  {
   "cell_type": "code",
   "execution_count": null,
   "metadata": {},
   "outputs": [],
   "source": [
    "scores_informed = {}\n",
    "\n",
    "for layer_id in layer_ids:\n",
    "    if results_path_model.joinpath(\n",
    "        f\"encodings_layer-{layer_id:02d}_seed-00.pkl\"\n",
    "    ).exists():\n",
    "        results_layer = [\n",
    "            pd.read_pickle(\n",
    "                results_path_model.joinpath(\n",
    "                    f\"encodings_layer-{layer_id:02d}_seed-{seed:02d}.pkl\"\n",
    "                )\n",
    "            )\n",
    "            for seed in seeds\n",
    "        ]\n",
    "    else:\n",
    "        continue\n",
    "\n",
    "    scores_informed[layer_id] = {}\n",
    "    for split in [\"train\", \"test\", \"val\"]:\n",
    "        results = [\n",
    "            x.loc[x[\"split\"] == split].drop(non_layer_names, axis=1)\n",
    "            for x in results_layer\n",
    "        ]\n",
    "        scores_informed[layer_id][split] = []\n",
    "        for seed_i in seeds:\n",
    "            for seed_j in range(seed_i + 1, N_ITERS):\n",
    "                scores_informed[layer_id][split].append(\n",
    "                    weightedtau(\n",
    "                        get_importances(data=results[seed_i], abs=True),\n",
    "                        get_importances(data=results[seed_j], abs=True),\n",
    "                    )[0]\n",
    "                )"
   ]
  },
  {
   "cell_type": "code",
   "execution_count": null,
   "metadata": {},
   "outputs": [],
   "source": [
    "scores_informed = (\n",
    "    pd.DataFrame.from_dict(scores_informed)\n",
    "    .melt(var_name=\"layer\", value_name=\"score\", ignore_index=False)\n",
    "    .reset_index(names=[\"split\"])\n",
    "    .explode(\"score\")\n",
    ")\n",
    "scores_informed[\"score\"] = scores_informed[\"score\"].astype(\"float\")\n",
    "scores_informed[\"model\"] = model_kind\n",
    "scores_informed.to_pickle(results_path_model.joinpath(\"scores_informed.pkl\"))"
   ]
  },
  {
   "cell_type": "code",
   "execution_count": null,
   "metadata": {},
   "outputs": [],
   "source": [
    "scores_informed.head()"
   ]
  },
  {
   "cell_type": "code",
   "execution_count": null,
   "metadata": {},
   "outputs": [],
   "source": [
    "custom_params = {\"axes.spines.right\": False, \"axes.spines.top\": False}\n",
    "sns.set_theme(context=\"paper\", font_scale=0.5, style=\"ticks\", rc=custom_params)\n",
    "plt.figure(figsize=(2, 2))\n",
    "sns.violinplot(\n",
    "    data=scores_informed,\n",
    "    x=\"layer\",\n",
    "    y=\"score\",\n",
    "    hue=\"split\",\n",
    "    split=False,\n",
    "    cut=0,\n",
    "    fill=False,\n",
    "    density_norm=\"count\",\n",
    "    inner=\"quart\",\n",
    "    linewidth=0.5,\n",
    ")\n",
    "sns.despine()"
   ]
  },
  {
   "cell_type": "code",
   "execution_count": null,
   "metadata": {},
   "outputs": [],
   "source": [
    "from multiprocessing import cpu_count\n",
    "\n",
    "from sklearn.cluster import MiniBatchKMeans\n",
    "from sklearn.metrics.cluster import adjusted_mutual_info_score\n",
    "\n",
    "batch_size = 256 * cpu_count() + 1"
   ]
  },
  {
   "cell_type": "code",
   "execution_count": null,
   "metadata": {},
   "outputs": [],
   "source": [
    "clust_scores = {}\n",
    "\n",
    "for layer_id in layer_ids:\n",
    "    if results_path_model.joinpath(\n",
    "        f\"encodings_layer-{layer_id:02d}_seed-00.pkl\"\n",
    "    ).exists():\n",
    "        results_layer = [\n",
    "            pd.read_pickle(\n",
    "                results_path_model.joinpath(\n",
    "                    f\"encodings_layer-{layer_id:02d}_seed-{seed:02d}.pkl\"\n",
    "                )\n",
    "            )\n",
    "            for seed in range(N_ITERS)\n",
    "        ]\n",
    "    else:\n",
    "        continue\n",
    "\n",
    "    train_embeddings_lst = [\n",
    "        x.loc[(x[\"split\"] == \"train\") & (x[\"condition\"] == \"control\")]\n",
    "        for x in results_layer\n",
    "    ]\n",
    "    val_embeddings_lst = [\n",
    "        x.loc[(x[\"split\"] == \"val\") & (x[\"condition\"] == \"control\")]\n",
    "        for x in results_layer\n",
    "    ]\n",
    "    test_embeddings_lst = [\n",
    "        x.loc[(x[\"split\"] == \"test\") & (x[\"condition\"] == \"control\")]\n",
    "        for x in results_layer\n",
    "    ]\n",
    "\n",
    "    clust_scores[layer_id] = {}\n",
    "    clust_scores[layer_id][\"train\"] = []\n",
    "    clust_scores[layer_id][\"val\"] = []\n",
    "    clust_scores[layer_id][\"test\"] = []\n",
    "\n",
    "    for seed in range(N_ITERS):\n",
    "        y_train = train_embeddings_lst[seed][\"cell_type\"]\n",
    "        y_val = val_embeddings_lst[seed][\"cell_type\"]\n",
    "        y_test = test_embeddings_lst[seed][\"cell_type\"]\n",
    "\n",
    "        train_embeddings = train_embeddings_lst[seed].drop(non_layer_names, axis=1)\n",
    "        val_embeddings = val_embeddings_lst[seed].drop(non_layer_names, axis=1)\n",
    "        test_embeddings = test_embeddings_lst[seed].drop(non_layer_names, axis=1)\n",
    "\n",
    "        model = MiniBatchKMeans(n_clusters=y_train.nunique(), batch_size=batch_size)\n",
    "        model.fit(train_embeddings)\n",
    "        clust_scores[layer_id][\"train\"].append(\n",
    "            adjusted_mutual_info_score(y_train, model.labels_)\n",
    "        )\n",
    "        clust_scores[layer_id][\"val\"].append(\n",
    "            adjusted_mutual_info_score(y_val, model.predict(val_embeddings))\n",
    "        )\n",
    "        clust_scores[layer_id][\"test\"].append(\n",
    "            adjusted_mutual_info_score(y_test, model.predict(test_embeddings))\n",
    "        )"
   ]
  },
  {
   "cell_type": "code",
   "execution_count": null,
   "metadata": {},
   "outputs": [],
   "source": [
    "clust_scores = (\n",
    "    pd.DataFrame.from_dict(clust_scores)\n",
    "    .melt(var_name=\"layer\", value_name=\"score\", ignore_index=False)\n",
    "    .reset_index(names=[\"split\"])\n",
    "    .explode(\"score\")\n",
    ")\n",
    "clust_scores[\"score\"] = clust_scores[\"score\"].astype(\"float\")\n",
    "clust_scores[\"model\"] = model_kind\n",
    "clust_scores.to_pickle(results_path_model.joinpath(\"scores_clustering.pkl\"))"
   ]
  },
  {
   "cell_type": "code",
   "execution_count": null,
   "metadata": {},
   "outputs": [],
   "source": [
    "clust_scores.head()"
   ]
  },
  {
   "cell_type": "code",
   "execution_count": null,
   "metadata": {},
   "outputs": [],
   "source": [
    "custom_params = {\"axes.spines.right\": False, \"axes.spines.top\": False}\n",
    "sns.set_theme(context=\"paper\", font_scale=0.5, style=\"ticks\", rc=custom_params)\n",
    "plt.figure(figsize=(2, 2))\n",
    "sns.violinplot(\n",
    "    data=clust_scores,\n",
    "    x=\"layer\",\n",
    "    y=\"score\",\n",
    "    hue=\"split\",\n",
    "    split=False,\n",
    "    cut=0,\n",
    "    fill=False,\n",
    "    density_norm=\"count\",\n",
    "    inner=\"quart\",\n",
    "    linewidth=0.5,\n",
    ")\n",
    "sns.despine()"
   ]
  },
  {
   "cell_type": "code",
   "execution_count": null,
   "metadata": {},
   "outputs": [],
   "source": []
  }
 ],
 "metadata": {
  "kernelspec": {
   "display_name": "default",
   "language": "python",
   "name": "python3"
  },
  "language_info": {
   "codemirror_mode": {
    "name": "ipython",
    "version": 3
   },
   "file_extension": ".py",
   "mimetype": "text/x-python",
   "name": "python",
   "nbconvert_exporter": "python",
   "pygments_lexer": "ipython3",
   "version": "3.10.8"
  }
 },
 "nbformat": 4,
 "nbformat_minor": 4
}
