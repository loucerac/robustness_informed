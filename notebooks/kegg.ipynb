{
 "cells": [
  {
   "cell_type": "code",
   "execution_count": null,
   "metadata": {},
   "outputs": [],
   "source": [
    "# https://www.sc-best-practices.org/conditions/gsea_pathway.html#id380\n",
    "# Kang HM, Subramaniam M, Targ S, et al. Multiplexed droplet single-cell RNA-sequencing using natural genetic variation\n",
    "#   Nat Biotechnol. 2020 Nov;38(11):1356]. Nat Biotechnol. 2018;36(1):89-94. doi:10.1038/nbt.4042"
   ]
  },
  {
   "cell_type": "code",
   "execution_count": null,
   "metadata": {},
   "outputs": [],
   "source": [
    "%load_ext autoreload\n",
    "%autoreload 2\n",
    "\n",
    "import scanpy as sc\n",
    "import tensorflow as tf\n",
    "from tensorflow.keras.models import Model\n",
    "from ivae_scorer.datasets import load_kang\n",
    "from tensorflow.keras import callbacks\n",
    "import shutil\n",
    "from ivae_scorer.utils import set_all_seeds\n",
    "from ivae_scorer.bio import get_adj_matrices, sync_gexp_adj, build_hipathia_renamers\n",
    "from sklearn.model_selection import train_test_split\n",
    "from sklearn.preprocessing import minmax_scale\n",
    "import matplotlib.pyplot as plt\n",
    "import seaborn as sns\n",
    "import dotenv\n",
    "from pathlib import Path\n",
    "import pandas as pd\n",
    "import numpy as np\n",
    "\n",
    "\n",
    "project_path = Path(dotenv.find_dotenv()).parent\n",
    "results_path = project_path.joinpath(\"results\")\n",
    "results_path.mkdir(exist_ok=True, parents=True)\n",
    "data_path = project_path.joinpath(\"data\")\n",
    "data_path.mkdir(exist_ok=True, parents=True)\n",
    "figs_path = results_path.joinpath(\"figs\")\n",
    "figs_path.mkdir(exist_ok=True, parents=True)\n",
    "tables_path = results_path.joinpath(\"tables\")\n",
    "tables_path.mkdir(exist_ok=True, parents=True)\n",
    "\n",
    "set_all_seeds(seed=42)\n",
    "\n",
    "tf.config.experimental.enable_op_determinism()\n",
    "\n",
    "sc.set_figure_params(dpi=300, color_map=\"inferno\")\n",
    "sc.settings.verbosity = 1\n",
    "sc.logging.print_header()"
   ]
  },
  {
   "cell_type": "code",
   "execution_count": null,
   "metadata": {},
   "outputs": [],
   "source": [
    "adata = load_kang(data_folder=data_path, normalize=True, n_genes=4000)"
   ]
  },
  {
   "cell_type": "code",
   "execution_count": null,
   "metadata": {},
   "outputs": [],
   "source": [
    "x_trans = adata.to_df()"
   ]
  },
  {
   "cell_type": "code",
   "execution_count": null,
   "metadata": {},
   "outputs": [],
   "source": [
    "circuit_adj, circuit_to_pathway_adj = get_adj_matrices(\n",
    "    gene_list=x_trans.columns.to_list()\n",
    ")\n",
    "\n",
    "circuit_renamer, pathway_renamer, circuit_to_effector = build_hipathia_renamers()\n",
    "\n",
    "circuit_names = circuit_adj.rename(columns=circuit_renamer).columns\n",
    "\n",
    "pathway_names = circuit_to_pathway_adj.rename(columns=pathway_renamer).columns\n",
    "\n",
    "circuit_adj.head()"
   ]
  },
  {
   "cell_type": "code",
   "execution_count": null,
   "metadata": {},
   "outputs": [],
   "source": [
    "x_trans, circuit_adj = sync_gexp_adj(gexp=x_trans, adj=circuit_adj)\n",
    "x_trans.shape, circuit_adj.shape, circuit_to_pathway_adj.shape"
   ]
  },
  {
   "cell_type": "code",
   "execution_count": null,
   "metadata": {},
   "outputs": [],
   "source": [
    "from ivae_scorer.models import build_kegg_vae\n",
    "\n",
    "\n",
    "def get_importances(data, abs=False):\n",
    "    if abs:\n",
    "        return np.abs(data).mean(axis=0)\n",
    "    else:\n",
    "        return data.mean(axis=0)\n",
    "\n",
    "\n",
    "def get_activations(act_model, layer_id, data):\n",
    "    data_encoded = act_model.predict(data)[layer_id]\n",
    "    return data_encoded"
   ]
  },
  {
   "cell_type": "code",
   "execution_count": null,
   "metadata": {},
   "outputs": [],
   "source": [
    "results = []\n",
    "\n",
    "results_path_model = results_path.joinpath(\"ivae_kegg\")\n",
    "shutil.rmtree(results_path_model)\n",
    "results_path_model.mkdir(exist_ok=True, parents=True)\n",
    "\n",
    "for seed in range(100):\n",
    "    tf.keras.backend.clear_session()\n",
    "    obs = adata.obs.copy()\n",
    "\n",
    "    x_train, x_test = train_test_split(\n",
    "        x_trans.apply(minmax_scale),\n",
    "        test_size=0.33,\n",
    "        stratify=obs[\"cell_type\"],\n",
    "        random_state=seed,\n",
    "    )\n",
    "    x_train = x_train.astype(\"float32\")\n",
    "    x_test = x_test.astype(\"float32\")\n",
    "\n",
    "    vae, encoder, decoder = build_kegg_vae(\n",
    "        circuits=circuit_adj, pathways=circuit_to_pathway_adj, seed=seed\n",
    "    )\n",
    "\n",
    "    batch_size = 32\n",
    "\n",
    "    callback = callbacks.EarlyStopping(\n",
    "        monitor=\"val_loss\",  # Stop training when `val_loss` is no longer improving\n",
    "        min_delta=1e-1,  # \"no longer improving\" being defined as \"no better than 1e-5 less\"\n",
    "        patience=100,  # \"no longer improving\" being further defined as \"for at least 3 epochs\"\n",
    "        verbose=0,\n",
    "    )\n",
    "\n",
    "    history = vae.fit(\n",
    "        x_train.values,\n",
    "        shuffle=True,\n",
    "        verbose=0,\n",
    "        epochs=10,\n",
    "        batch_size=batch_size,\n",
    "        callbacks=[callback],\n",
    "        validation_data=(x_test.values, None),\n",
    "    )\n",
    "\n",
    "    layer_outputs = [layer.output for layer in encoder.layers]\n",
    "    activation_model = Model(inputs=encoder.input, outputs=layer_outputs)\n",
    "\n",
    "    for layer_id in [1, 2]:\n",
    "        if layer_id == 1:\n",
    "            colnames = circuit_names\n",
    "        else:\n",
    "            colnames = pathway_names\n",
    "\n",
    "        encodings = get_activations(\n",
    "            act_model=activation_model,\n",
    "            layer_id=layer_id,\n",
    "            data=x_trans.apply(minmax_scale),\n",
    "        )\n",
    "        encodings = pd.DataFrame(encodings, index=x_trans.index, columns=colnames)\n",
    "        encodings[\"is_train\"] = 1\n",
    "        encodings.loc[x_test.index, \"is_train\"] = 0\n",
    "        encodings[\"layer\"] = layer_id\n",
    "        encodings[\"seed\"] = seed\n",
    "        encodings.to_pickle(\n",
    "            results_path_model.joinpath(\n",
    "                f\"encodings_layer-{layer_id:02d}_seed-{seed:02d}.pkl\"\n",
    "            )\n",
    "        )"
   ]
  },
  {
   "cell_type": "code",
   "execution_count": null,
   "metadata": {},
   "outputs": [],
   "source": []
  }
 ],
 "metadata": {
  "kernelspec": {
   "display_name": "Python 3 (ipykernel)",
   "language": "python",
   "name": "python3"
  },
  "language_info": {
   "codemirror_mode": {
    "name": "ipython",
    "version": 3
   },
   "file_extension": ".py",
   "mimetype": "text/x-python",
   "name": "python",
   "nbconvert_exporter": "python",
   "pygments_lexer": "ipython3",
   "version": "3.10.8"
  },
  "vscode": {
   "interpreter": {
    "hash": "3b4651b61dd9046e4bae09ab0c22b4cc207f37f5591f1d5dbc867d81958be0f9"
   }
  }
 },
 "nbformat": 4,
 "nbformat_minor": 4
}
