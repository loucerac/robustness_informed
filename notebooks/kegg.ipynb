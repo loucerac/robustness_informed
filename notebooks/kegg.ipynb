{
 "cells": [
  {
   "cell_type": "code",
   "execution_count": 1,
   "metadata": {},
   "outputs": [],
   "source": [
    "# https://www.sc-best-practices.org/conditions/gsea_pathway.html#id380\n",
    "# Kang HM, Subramaniam M, Targ S, et al. Multiplexed droplet single-cell RNA-sequencing using natural genetic variation\n",
    "#   Nat Biotechnol. 2020 Nov;38(11):1356]. Nat Biotechnol. 2018;36(1):89-94. doi:10.1038/nbt.4042"
   ]
  },
  {
   "cell_type": "code",
   "execution_count": 2,
   "metadata": {},
   "outputs": [
    {
     "name": "stderr",
     "output_type": "stream",
     "text": [
      "2023-12-21 13:53:27.609550: I tensorflow/core/platform/cpu_feature_guard.cc:193] This TensorFlow binary is optimized with oneAPI Deep Neural Network Library (oneDNN) to use the following CPU instructions in performance-critical operations:  SSE4.1 SSE4.2 AVX AVX2 FMA\n",
      "To enable them in other operations, rebuild TensorFlow with the appropriate compiler flags.\n",
      "/home/carlos/github/robustness_informed/.venv/lib/python3.10/site-packages/tqdm/auto.py:21: TqdmWarning: IProgress not found. Please update jupyter and ipywidgets. See https://ipywidgets.readthedocs.io/en/stable/user_install.html\n",
      "  from .autonotebook import tqdm as notebook_tqdm\n"
     ]
    },
    {
     "name": "stdout",
     "output_type": "stream",
     "text": [
      "scanpy==1.9.3 anndata==0.10.3 umap==0.5.5 numpy==1.23.5 scipy==1.10.1 pandas==2.0.1 scikit-learn==1.2.2 statsmodels==0.14.1 python-igraph==0.10.3 pynndescent==0.5.11\n"
     ]
    }
   ],
   "source": [
    "%load_ext autoreload\n",
    "%autoreload 2\n",
    "\n",
    "import scanpy as sc\n",
    "import tensorflow as tf\n",
    "from tensorflow.keras.models import Model\n",
    "from ivae_scorer.datasets import load_kang\n",
    "from tensorflow.keras import callbacks\n",
    "from ivae_scorer.utils import set_all_seeds\n",
    "from ivae_scorer.bio import get_adj_matrices, sync_gexp_adj, build_hipathia_renamers\n",
    "from sklearn.model_selection import train_test_split\n",
    "from sklearn.preprocessing import minmax_scale\n",
    "import matplotlib.pyplot as plt\n",
    "import seaborn as sns\n",
    "import dotenv\n",
    "from pathlib import Path\n",
    "import pandas as pd\n",
    "import numpy as np\n",
    "\n",
    "\n",
    "\n",
    "project_path = Path(dotenv.find_dotenv()).parent\n",
    "results_path = project_path.joinpath(\"results\")\n",
    "results_path.mkdir(exist_ok=True, parents=True)\n",
    "data_path = project_path.joinpath(\"data\")\n",
    "data_path.mkdir(exist_ok=True, parents=True)\n",
    "figs_path = results_path.joinpath(\"figs\")\n",
    "figs_path.mkdir(exist_ok=True, parents=True)\n",
    "tables_path = results_path.joinpath(\"tables\")\n",
    "tables_path.mkdir(exist_ok=True, parents=True)\n",
    "\n",
    "set_all_seeds(seed=42)\n",
    "\n",
    "tf.config.experimental.enable_op_determinism()\n",
    "\n",
    "sc.set_figure_params(dpi=300, color_map=\"inferno\")\n",
    "sc.settings.verbosity = 1\n",
    "sc.logging.print_header()"
   ]
  },
  {
   "cell_type": "code",
   "execution_count": 3,
   "metadata": {},
   "outputs": [
    {
     "name": "stderr",
     "output_type": "stream",
     "text": [
      "/home/carlos/github/robustness_informed/.venv/lib/python3.10/site-packages/anndata/__init__.py:51: FutureWarning: `anndata.read` is deprecated, use `anndata.read_h5ad` instead. `ad.read` will be removed in mid 2024.\n",
      "  warnings.warn(\n"
     ]
    }
   ],
   "source": [
    "adata = load_kang(data_folder=data_path, normalize=True, n_genes=4000)"
   ]
  },
  {
   "cell_type": "code",
   "execution_count": 4,
   "metadata": {},
   "outputs": [],
   "source": [
    "x_trans = adata.to_df()"
   ]
  },
  {
   "cell_type": "code",
   "execution_count": 5,
   "metadata": {},
   "outputs": [
    {
     "data": {
      "text/html": [
       "<div>\n",
       "<style scoped>\n",
       "    .dataframe tbody tr th:only-of-type {\n",
       "        vertical-align: middle;\n",
       "    }\n",
       "\n",
       "    .dataframe tbody tr th {\n",
       "        vertical-align: top;\n",
       "    }\n",
       "\n",
       "    .dataframe thead th {\n",
       "        text-align: right;\n",
       "    }\n",
       "</style>\n",
       "<table border=\"1\" class=\"dataframe\">\n",
       "  <thead>\n",
       "    <tr style=\"text-align: right;\">\n",
       "      <th>circuit</th>\n",
       "      <th>P-hsa03320-62</th>\n",
       "      <th>P-hsa03320-45</th>\n",
       "      <th>P-hsa03320-43</th>\n",
       "      <th>P-hsa03320-23</th>\n",
       "      <th>P-hsa03320-32</th>\n",
       "      <th>P-hsa03320-8</th>\n",
       "      <th>P-hsa03320-7</th>\n",
       "      <th>P-hsa03320-9</th>\n",
       "      <th>P-hsa03320-39</th>\n",
       "      <th>P-hsa03320-38</th>\n",
       "      <th>...</th>\n",
       "      <th>P-hsa05164-41.42</th>\n",
       "      <th>P-hsa05164-47</th>\n",
       "      <th>P-hsa05164-53</th>\n",
       "      <th>P-hsa05164-65.66</th>\n",
       "      <th>P-hsa05164-68</th>\n",
       "      <th>P-hsa05164-70</th>\n",
       "      <th>P-hsa05164-77</th>\n",
       "      <th>P-hsa05164-78</th>\n",
       "      <th>P-hsa05164-90</th>\n",
       "      <th>P-hsa05164-99</th>\n",
       "    </tr>\n",
       "    <tr>\n",
       "      <th>symbol</th>\n",
       "      <th></th>\n",
       "      <th></th>\n",
       "      <th></th>\n",
       "      <th></th>\n",
       "      <th></th>\n",
       "      <th></th>\n",
       "      <th></th>\n",
       "      <th></th>\n",
       "      <th></th>\n",
       "      <th></th>\n",
       "      <th></th>\n",
       "      <th></th>\n",
       "      <th></th>\n",
       "      <th></th>\n",
       "      <th></th>\n",
       "      <th></th>\n",
       "      <th></th>\n",
       "      <th></th>\n",
       "      <th></th>\n",
       "      <th></th>\n",
       "      <th></th>\n",
       "    </tr>\n",
       "  </thead>\n",
       "  <tbody>\n",
       "    <tr>\n",
       "      <th>AKT3</th>\n",
       "      <td>0</td>\n",
       "      <td>0</td>\n",
       "      <td>0</td>\n",
       "      <td>0</td>\n",
       "      <td>0</td>\n",
       "      <td>0</td>\n",
       "      <td>0</td>\n",
       "      <td>0</td>\n",
       "      <td>0</td>\n",
       "      <td>0</td>\n",
       "      <td>...</td>\n",
       "      <td>0</td>\n",
       "      <td>0</td>\n",
       "      <td>0</td>\n",
       "      <td>0</td>\n",
       "      <td>0</td>\n",
       "      <td>0</td>\n",
       "      <td>0</td>\n",
       "      <td>0</td>\n",
       "      <td>0</td>\n",
       "      <td>0</td>\n",
       "    </tr>\n",
       "    <tr>\n",
       "      <th>TANK</th>\n",
       "      <td>0</td>\n",
       "      <td>0</td>\n",
       "      <td>0</td>\n",
       "      <td>0</td>\n",
       "      <td>0</td>\n",
       "      <td>0</td>\n",
       "      <td>0</td>\n",
       "      <td>0</td>\n",
       "      <td>0</td>\n",
       "      <td>0</td>\n",
       "      <td>...</td>\n",
       "      <td>0</td>\n",
       "      <td>0</td>\n",
       "      <td>0</td>\n",
       "      <td>0</td>\n",
       "      <td>0</td>\n",
       "      <td>0</td>\n",
       "      <td>0</td>\n",
       "      <td>0</td>\n",
       "      <td>0</td>\n",
       "      <td>0</td>\n",
       "    </tr>\n",
       "    <tr>\n",
       "      <th>BCL2L11</th>\n",
       "      <td>0</td>\n",
       "      <td>0</td>\n",
       "      <td>0</td>\n",
       "      <td>0</td>\n",
       "      <td>0</td>\n",
       "      <td>0</td>\n",
       "      <td>0</td>\n",
       "      <td>0</td>\n",
       "      <td>0</td>\n",
       "      <td>0</td>\n",
       "      <td>...</td>\n",
       "      <td>0</td>\n",
       "      <td>0</td>\n",
       "      <td>0</td>\n",
       "      <td>0</td>\n",
       "      <td>0</td>\n",
       "      <td>0</td>\n",
       "      <td>0</td>\n",
       "      <td>0</td>\n",
       "      <td>0</td>\n",
       "      <td>0</td>\n",
       "    </tr>\n",
       "    <tr>\n",
       "      <th>SH2B3</th>\n",
       "      <td>0</td>\n",
       "      <td>0</td>\n",
       "      <td>0</td>\n",
       "      <td>0</td>\n",
       "      <td>0</td>\n",
       "      <td>0</td>\n",
       "      <td>0</td>\n",
       "      <td>0</td>\n",
       "      <td>0</td>\n",
       "      <td>0</td>\n",
       "      <td>...</td>\n",
       "      <td>0</td>\n",
       "      <td>0</td>\n",
       "      <td>0</td>\n",
       "      <td>0</td>\n",
       "      <td>0</td>\n",
       "      <td>0</td>\n",
       "      <td>0</td>\n",
       "      <td>0</td>\n",
       "      <td>0</td>\n",
       "      <td>0</td>\n",
       "    </tr>\n",
       "    <tr>\n",
       "      <th>FRAT1</th>\n",
       "      <td>0</td>\n",
       "      <td>0</td>\n",
       "      <td>0</td>\n",
       "      <td>0</td>\n",
       "      <td>0</td>\n",
       "      <td>0</td>\n",
       "      <td>0</td>\n",
       "      <td>0</td>\n",
       "      <td>0</td>\n",
       "      <td>0</td>\n",
       "      <td>...</td>\n",
       "      <td>0</td>\n",
       "      <td>0</td>\n",
       "      <td>0</td>\n",
       "      <td>0</td>\n",
       "      <td>0</td>\n",
       "      <td>0</td>\n",
       "      <td>0</td>\n",
       "      <td>0</td>\n",
       "      <td>0</td>\n",
       "      <td>0</td>\n",
       "    </tr>\n",
       "  </tbody>\n",
       "</table>\n",
       "<p>5 rows × 1221 columns</p>\n",
       "</div>"
      ],
      "text/plain": [
       "circuit  P-hsa03320-62  P-hsa03320-45  P-hsa03320-43  P-hsa03320-23   \n",
       "symbol                                                                \n",
       "AKT3                 0              0              0              0  \\\n",
       "TANK                 0              0              0              0   \n",
       "BCL2L11              0              0              0              0   \n",
       "SH2B3                0              0              0              0   \n",
       "FRAT1                0              0              0              0   \n",
       "\n",
       "circuit  P-hsa03320-32  P-hsa03320-8  P-hsa03320-7  P-hsa03320-9   \n",
       "symbol                                                             \n",
       "AKT3                 0             0             0             0  \\\n",
       "TANK                 0             0             0             0   \n",
       "BCL2L11              0             0             0             0   \n",
       "SH2B3                0             0             0             0   \n",
       "FRAT1                0             0             0             0   \n",
       "\n",
       "circuit  P-hsa03320-39  P-hsa03320-38  ...  P-hsa05164-41.42  P-hsa05164-47   \n",
       "symbol                                 ...                                    \n",
       "AKT3                 0              0  ...                 0              0  \\\n",
       "TANK                 0              0  ...                 0              0   \n",
       "BCL2L11              0              0  ...                 0              0   \n",
       "SH2B3                0              0  ...                 0              0   \n",
       "FRAT1                0              0  ...                 0              0   \n",
       "\n",
       "circuit  P-hsa05164-53  P-hsa05164-65.66  P-hsa05164-68  P-hsa05164-70   \n",
       "symbol                                                                   \n",
       "AKT3                 0                 0              0              0  \\\n",
       "TANK                 0                 0              0              0   \n",
       "BCL2L11              0                 0              0              0   \n",
       "SH2B3                0                 0              0              0   \n",
       "FRAT1                0                 0              0              0   \n",
       "\n",
       "circuit  P-hsa05164-77  P-hsa05164-78  P-hsa05164-90  P-hsa05164-99  \n",
       "symbol                                                               \n",
       "AKT3                 0              0              0              0  \n",
       "TANK                 0              0              0              0  \n",
       "BCL2L11              0              0              0              0  \n",
       "SH2B3                0              0              0              0  \n",
       "FRAT1                0              0              0              0  \n",
       "\n",
       "[5 rows x 1221 columns]"
      ]
     },
     "execution_count": 5,
     "metadata": {},
     "output_type": "execute_result"
    }
   ],
   "source": [
    "circuit_adj, circuit_to_pathway_adj = get_adj_matrices(\n",
    "    gene_list=x_trans.columns.to_list()\n",
    ")\n",
    "\n",
    "circuit_renamer, pathway_renamer, circuit_to_effector = build_hipathia_renamers()\n",
    "\n",
    "circuit_names = circuit_adj.rename(columns=circuit_renamer).columns\n",
    "\n",
    "pathway_names_names = circuit_to_pathway_adj.rename(columns=pathway_renamer).columns\n",
    "\n",
    "circuit_adj.head()"
   ]
  },
  {
   "cell_type": "code",
   "execution_count": 6,
   "metadata": {},
   "outputs": [
    {
     "data": {
      "text/plain": [
       "((24673, 1820), (1820, 1221), (1221, 93))"
      ]
     },
     "execution_count": 6,
     "metadata": {},
     "output_type": "execute_result"
    }
   ],
   "source": [
    "x_trans, circuit_adj = sync_gexp_adj(gexp=x_trans, adj=circuit_adj)\n",
    "x_trans.shape, circuit_adj.shape, circuit_to_pathway_adj.shape"
   ]
  },
  {
   "cell_type": "code",
   "execution_count": 7,
   "metadata": {},
   "outputs": [],
   "source": [
    "obs = adata.obs.copy()\n",
    "\n",
    "x_train, x_test = train_test_split(\n",
    "    x_trans.apply(minmax_scale),\n",
    "    test_size=0.33,\n",
    "    stratify=obs[\"cell_type\"],\n",
    "    random_state=42,\n",
    ")\n",
    "x_train = x_train.astype(\"float32\")\n",
    "x_test = x_test.astype(\"float32\")"
   ]
  },
  {
   "cell_type": "code",
   "execution_count": 8,
   "metadata": {},
   "outputs": [],
   "source": [
    "from ivae_scorer.models import build_kegg_vae\n",
    "\n",
    "def get_importances(data, abs=False):\n",
    "    if abs:\n",
    "        return np.abs(data).mean(axis=0)\n",
    "    else:\n",
    "        return data.mean(axis=0)\n",
    "\n",
    "def get_activations(act_model, layer_id, data):\n",
    "    data_encoded = act_model.predict(data)[layer_id]\n",
    "    return data_encoded"
   ]
  },
  {
   "cell_type": "code",
   "execution_count": 9,
   "metadata": {},
   "outputs": [
    {
     "name": "stderr",
     "output_type": "stream",
     "text": [
      "2023-12-21 13:53:33.689393: I tensorflow/stream_executor/cuda/cuda_gpu_executor.cc:980] successful NUMA node read from SysFS had negative value (-1), but there must be at least one NUMA node, so returning NUMA node zero\n",
      "2023-12-21 13:53:33.711336: I tensorflow/stream_executor/cuda/cuda_gpu_executor.cc:980] successful NUMA node read from SysFS had negative value (-1), but there must be at least one NUMA node, so returning NUMA node zero\n",
      "2023-12-21 13:53:33.711533: I tensorflow/stream_executor/cuda/cuda_gpu_executor.cc:980] successful NUMA node read from SysFS had negative value (-1), but there must be at least one NUMA node, so returning NUMA node zero\n",
      "2023-12-21 13:53:33.711927: I tensorflow/core/platform/cpu_feature_guard.cc:193] This TensorFlow binary is optimized with oneAPI Deep Neural Network Library (oneDNN) to use the following CPU instructions in performance-critical operations:  SSE4.1 SSE4.2 AVX AVX2 FMA\n",
      "To enable them in other operations, rebuild TensorFlow with the appropriate compiler flags.\n",
      "2023-12-21 13:53:33.713376: I tensorflow/stream_executor/cuda/cuda_gpu_executor.cc:980] successful NUMA node read from SysFS had negative value (-1), but there must be at least one NUMA node, so returning NUMA node zero\n",
      "2023-12-21 13:53:33.713558: I tensorflow/stream_executor/cuda/cuda_gpu_executor.cc:980] successful NUMA node read from SysFS had negative value (-1), but there must be at least one NUMA node, so returning NUMA node zero\n",
      "2023-12-21 13:53:33.713727: I tensorflow/stream_executor/cuda/cuda_gpu_executor.cc:980] successful NUMA node read from SysFS had negative value (-1), but there must be at least one NUMA node, so returning NUMA node zero\n",
      "2023-12-21 13:53:33.995583: I tensorflow/stream_executor/cuda/cuda_gpu_executor.cc:980] successful NUMA node read from SysFS had negative value (-1), but there must be at least one NUMA node, so returning NUMA node zero\n",
      "2023-12-21 13:53:33.995771: I tensorflow/stream_executor/cuda/cuda_gpu_executor.cc:980] successful NUMA node read from SysFS had negative value (-1), but there must be at least one NUMA node, so returning NUMA node zero\n",
      "2023-12-21 13:53:33.995922: I tensorflow/stream_executor/cuda/cuda_gpu_executor.cc:980] successful NUMA node read from SysFS had negative value (-1), but there must be at least one NUMA node, so returning NUMA node zero\n",
      "2023-12-21 13:53:33.996044: I tensorflow/core/common_runtime/gpu/gpu_device.cc:1616] Created device /job:localhost/replica:0/task:0/device:GPU:0 with 21980 MB memory:  -> device: 0, name: NVIDIA RTX A5000, pci bus id: 0000:08:00.0, compute capability: 8.6\n",
      "2023-12-21 13:53:35.831105: I tensorflow/stream_executor/cuda/cuda_blas.cc:1614] TensorFloat-32 will be used for the matrix multiplication. This will only be logged once.\n"
     ]
    }
   ],
   "source": [
    "vae, encoder, decoder = build_kegg_vae(\n",
    "    circuits=circuit_adj, pathways=circuit_to_pathway_adj, seed=1981\n",
    ")\n",
    "\n",
    "batch_size = 32\n",
    "\n",
    "callback = callbacks.EarlyStopping(\n",
    "    monitor=\"val_loss\",  # Stop training when `val_loss` is no longer improving\n",
    "    min_delta=1e-1,  # \"no longer improving\" being defined as \"no better than 1e-5 less\"\n",
    "    patience=100,  # \"no longer improving\" being further defined as \"for at least 3 epochs\"\n",
    "    verbose=0,\n",
    ")\n",
    "\n",
    "history = vae.fit(\n",
    "    x_train.values,\n",
    "    shuffle=True,\n",
    "    verbose=0,\n",
    "    epochs=300,\n",
    "    batch_size=batch_size,\n",
    "    callbacks=[callback],\n",
    "    validation_data=(x_test.values, None),\n",
    ")"
   ]
  },
  {
   "cell_type": "code",
   "execution_count": 10,
   "metadata": {},
   "outputs": [],
   "source": [
    "layer_outputs = [layer.output for layer in encoder.layers]\n",
    "activation_model = Model(inputs=encoder.input, outputs=layer_outputs)"
   ]
  },
  {
   "cell_type": "code",
   "execution_count": 11,
   "metadata": {},
   "outputs": [
    {
     "name": "stdout",
     "output_type": "stream",
     "text": [
      "258/258 [==============================] - 0s 928us/step\n"
     ]
    }
   ],
   "source": [
    "layer_id = 2\n",
    "\n",
    "stimulated_train_ids = obs.loc[obs[\"condition\"] == \"stimulated\"].index.intersection(x_train.index)\n",
    "estimulated_train_encodings = get_activations(act_model=activation_model, layer_id=layer_id, data=x_train.loc[stimulated_train_ids])\n",
    "estimulated_train_importances = get_importances(estimulated_train_encodings)"
   ]
  },
  {
   "cell_type": "code",
   "execution_count": 12,
   "metadata": {},
   "outputs": [
    {
     "name": "stdout",
     "output_type": "stream",
     "text": [
      "129/129 [==============================] - 0s 608us/step\n"
     ]
    }
   ],
   "source": [
    "stimulated_test_ids = obs.loc[obs[\"condition\"] == \"stimulated\"].index.intersection(x_test.index)\n",
    "estimulated_test_encodings = get_activations(act_model=activation_model, layer_id=layer_id, data=x_test.loc[stimulated_test_ids])\n",
    "estimulated_test_importances = get_importances(estimulated_test_encodings)"
   ]
  },
  {
   "cell_type": "code",
   "execution_count": 13,
   "metadata": {},
   "outputs": [],
   "source": [
    "from scipy.stats import weightedtau"
   ]
  },
  {
   "cell_type": "code",
   "execution_count": 14,
   "metadata": {},
   "outputs": [
    {
     "data": {
      "text/plain": [
       "SignificanceResult(statistic=0.9849683242585753, pvalue=nan)"
      ]
     },
     "execution_count": 14,
     "metadata": {},
     "output_type": "execute_result"
    }
   ],
   "source": [
    "weightedtau(estimulated_test_importances, estimulated_train_importances)"
   ]
  },
  {
   "cell_type": "code",
   "execution_count": null,
   "metadata": {},
   "outputs": [],
   "source": []
  }
 ],
 "metadata": {
  "kernelspec": {
   "display_name": "Python 3 (ipykernel)",
   "language": "python",
   "name": "python3"
  },
  "language_info": {
   "codemirror_mode": {
    "name": "ipython",
    "version": 3
   },
   "file_extension": ".py",
   "mimetype": "text/x-python",
   "name": "python",
   "nbconvert_exporter": "python",
   "pygments_lexer": "ipython3",
   "version": "3.10.8"
  },
  "vscode": {
   "interpreter": {
    "hash": "3b4651b61dd9046e4bae09ab0c22b4cc207f37f5591f1d5dbc867d81958be0f9"
   }
  }
 },
 "nbformat": 4,
 "nbformat_minor": 4
}
