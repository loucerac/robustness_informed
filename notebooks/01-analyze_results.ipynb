{
 "cells": [
  {
   "cell_type": "code",
   "execution_count": null,
   "metadata": {},
   "outputs": [],
   "source": [
    "%load_ext autoreload\n",
    "%autoreload 2\n",
    "\n",
    "import tensorflow as tf\n",
    "from ivae_scorer.utils import set_all_seeds\n",
    "import seaborn as sns\n",
    "import dotenv\n",
    "from pathlib import Path\n",
    "import pandas as pd\n",
    "\n",
    "project_path = Path(dotenv.find_dotenv()).parent\n",
    "results_path = project_path.joinpath(\"results\")\n",
    "data_path = project_path.joinpath(\"data\")\n",
    "figs_path = results_path.joinpath(\"figs\")\n",
    "tables_path = results_path.joinpath(\"tables\")\n",
    "\n",
    "set_all_seeds(seed=42)\n",
    "\n",
    "tf.config.experimental.enable_op_determinism()"
   ]
  },
  {
   "cell_type": "code",
   "execution_count": null,
   "metadata": {},
   "outputs": [],
   "source": [
    "models = [\"ivae_kegg\", \"ivae_reactome\"]"
   ]
  },
  {
   "cell_type": "code",
   "execution_count": null,
   "metadata": {},
   "outputs": [],
   "source": [
    "# Metrics\n",
    "\n",
    "metric_scores = [\n",
    "    pd.read_pickle(results_path.joinpath(m, \"scores_metrics.pkl\")) for m in models\n",
    "]\n",
    "metric_scores = pd.concat(metric_scores, axis=0, ignore_index=True)\n",
    "metric_scores.head()"
   ]
  },
  {
   "cell_type": "code",
   "execution_count": null,
   "metadata": {},
   "outputs": [],
   "source": [
    "custom_params = {\"axes.spines.right\": False, \"axes.spines.top\": False}\n",
    "sns.set_theme(context=\"paper\", font_scale=2, style=\"ticks\", rc=custom_params)\n",
    "fac = 0.6\n",
    "\n",
    "g = sns.catplot(\n",
    "    data=metric_scores,\n",
    "    kind=\"violin\",\n",
    "    col=\"metric\",\n",
    "    height=9 * fac,\n",
    "    aspect=16 / 9 * fac,\n",
    "    sharey=False,\n",
    "    x=\"model\",\n",
    "    y=\"score\",\n",
    "    hue=\"split\",\n",
    "    split=False,\n",
    "    cut=0,\n",
    "    fill=False,\n",
    "    density_norm=\"count\",\n",
    "    inner=\"quart\",\n",
    "    linewidth=2,\n",
    "    legend_out=False,\n",
    ")\n",
    "\n",
    "sns.move_legend(\n",
    "    g,\n",
    "    \"lower center\",\n",
    "    bbox_to_anchor=(0.5, 0.9),\n",
    "    ncol=3,\n",
    "    title=None,\n",
    "    frameon=False,\n",
    ")"
   ]
  },
  {
   "cell_type": "code",
   "execution_count": null,
   "metadata": {},
   "outputs": [],
   "source": [
    "# clustering\n",
    "\n",
    "clustering_scores = [\n",
    "    pd.read_pickle(results_path.joinpath(m, \"scores_clustering.pkl\")) for m in models\n",
    "]\n",
    "clustering_scores = pd.concat(clustering_scores, axis=0, ignore_index=True)\n",
    "clustering_scores.head()"
   ]
  },
  {
   "cell_type": "code",
   "execution_count": null,
   "metadata": {},
   "outputs": [],
   "source": [
    "custom_params = {\"axes.spines.right\": False, \"axes.spines.top\": False}\n",
    "sns.set_theme(context=\"paper\", font_scale=2, style=\"ticks\", rc=custom_params)\n",
    "fac = 0.6\n",
    "\n",
    "g = sns.catplot(\n",
    "    data=clustering_scores,\n",
    "    kind=\"violin\",\n",
    "    col=\"model\",\n",
    "    height=9 * fac,\n",
    "    aspect=16 / 9 * fac,\n",
    "    sharey=True,\n",
    "    x=\"layer\",\n",
    "    y=\"score\",\n",
    "    hue=\"split\",\n",
    "    split=False,\n",
    "    cut=0,\n",
    "    fill=False,\n",
    "    density_norm=\"count\",\n",
    "    inner=\"quart\",\n",
    "    linewidth=2,\n",
    "    legend_out=False,\n",
    ")\n",
    "\n",
    "sns.move_legend(\n",
    "    g,\n",
    "    \"lower center\",\n",
    "    bbox_to_anchor=(0.5, 0.9),\n",
    "    ncol=3,\n",
    "    title=None,\n",
    "    frameon=False,\n",
    ")"
   ]
  },
  {
   "cell_type": "code",
   "execution_count": null,
   "metadata": {},
   "outputs": [],
   "source": [
    "# informed\n",
    "\n",
    "informed_scores = [\n",
    "    pd.read_pickle(results_path.joinpath(m, \"scores_informed.pkl\")) for m in models\n",
    "]\n",
    "informed_scores = pd.concat(informed_scores, axis=0, ignore_index=True)\n",
    "informed_scores.head()"
   ]
  },
  {
   "cell_type": "code",
   "execution_count": null,
   "metadata": {},
   "outputs": [],
   "source": [
    "custom_params = {\"axes.spines.right\": False, \"axes.spines.top\": False}\n",
    "sns.set_theme(context=\"paper\", font_scale=2, style=\"ticks\", rc=custom_params)\n",
    "fac = 0.6\n",
    "\n",
    "g = sns.catplot(\n",
    "    data=informed_scores,\n",
    "    kind=\"violin\",\n",
    "    col=\"model\",\n",
    "    height=9 * fac,\n",
    "    aspect=16 / 9 * fac,\n",
    "    sharey=True,\n",
    "    x=\"layer\",\n",
    "    y=\"score\",\n",
    "    hue=\"split\",\n",
    "    split=False,\n",
    "    cut=0,\n",
    "    fill=False,\n",
    "    density_norm=\"count\",\n",
    "    inner=\"quart\",\n",
    "    linewidth=2,\n",
    "    legend_out=False,\n",
    ")\n",
    "\n",
    "sns.move_legend(\n",
    "    g,\n",
    "    \"lower center\",\n",
    "    bbox_to_anchor=(0.5, 0.9),\n",
    "    ncol=3,\n",
    "    title=None,\n",
    "    frameon=False,\n",
    ")"
   ]
  },
  {
   "cell_type": "code",
   "execution_count": null,
   "metadata": {},
   "outputs": [],
   "source": []
  }
 ],
 "metadata": {
  "kernelspec": {
   "display_name": "Python 3",
   "language": "python",
   "name": "python3"
  },
  "language_info": {
   "codemirror_mode": {
    "name": "ipython",
    "version": 3
   },
   "file_extension": ".py",
   "mimetype": "text/x-python",
   "name": "python",
   "nbconvert_exporter": "python",
   "pygments_lexer": "ipython3",
   "version": "3.10.8"
  }
 },
 "nbformat": 4,
 "nbformat_minor": 2
}
